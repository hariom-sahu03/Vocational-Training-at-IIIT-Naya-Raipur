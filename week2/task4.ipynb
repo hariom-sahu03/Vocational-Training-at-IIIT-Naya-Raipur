{
 "cells": [
  {
   "cell_type": "code",
   "execution_count": null,
   "id": "66a041ef",
   "metadata": {},
   "outputs": [
    {
     "name": "stdout",
     "output_type": "stream",
     "text": [
      "📊 Classification Report:\n",
      "              precision    recall  f1-score   support\n",
      "\n",
      "           A       0.25      0.20      0.22         5\n",
      "           B       0.33      0.33      0.33         3\n",
      "           C       0.29      0.29      0.29         7\n",
      "           D       0.17      0.20      0.18         5\n",
      "\n",
      "    accuracy                           0.25        20\n",
      "   macro avg       0.26      0.25      0.26        20\n",
      "weighted avg       0.25      0.25      0.25        20\n",
      "\n",
      "🧮 Confusion Matrix:\n",
      "[[1 0 3 1]\n",
      " [0 1 0 2]\n",
      " [1 2 2 2]\n",
      " [2 0 2 1]]\n"
     ]
    }
   ],
   "source": [
    "import pandas as pd\n",
    "from sklearn.model_selection import train_test_split\n",
    "from sklearn.preprocessing import LabelEncoder\n",
    "from sklearn.ensemble import RandomForestClassifier\n",
    "from sklearn.metrics import classification_report, confusion_matrix\n",
    "\n",
    "\n",
    "data = pd.read_csv(r\"C:\\Users\\Lenovo\\Downloads\\student_dataset.csv\")\n",
    "\n",
    "\n",
    "data['Part_Time_Job'] = data['Part_Time_Job'].str.strip().str.capitalize().map({'Yes': 1, 'No': 0})\n",
    "\n",
    "\n",
    "def assign_grade(score):\n",
    "    if score >= 85:\n",
    "        return 'A'\n",
    "    elif score >= 70:\n",
    "        return 'B'\n",
    "    elif score >= 50:\n",
    "        return 'C'\n",
    "    else:\n",
    "        return 'D'\n",
    "\n",
    "data['Grade'] = data['Final_Score'].apply(assign_grade)\n",
    "\n",
    "\n",
    "features = ['Age', 'Hours_Studied', 'Attendance_Rate', 'Previous_Sem_CGPA', 'Part_Time_Job']\n",
    "target = 'Grade'\n",
    "\n",
    "\n",
    "data = data.dropna(subset=features + [target])\n",
    "\n",
    "X = data[features]\n",
    "y = data[target]\n",
    "\n",
    "\n",
    "label_encoder = LabelEncoder()\n",
    "y_encoded = label_encoder.fit_transform(y)\n",
    "\n",
    "\n",
    "X_train, X_test, y_train, y_test = train_test_split(X, y_encoded, test_size=0.2, random_state=42)\n",
    "\n",
    "clf = RandomForestClassifier(random_state=42)\n",
    "clf.fit(X_train, y_train)\n",
    "\n",
    "y_pred = clf.predict(X_test)\n",
    "\n",
    "\n",
    "y_test_labels = label_encoder.inverse_transform(y_test)\n",
    "y_pred_labels = label_encoder.inverse_transform(y_pred)\n",
    "\n",
    "print(\"📊 Classification Report:\")\n",
    "print(classification_report(y_test_labels, y_pred_labels))\n",
    "\n",
    "print(\"🧮 Confusion Matrix:\")\n",
    "print(confusion_matrix(y_test_labels, y_pred_labels))\n"
   ]
  }
 ],
 "metadata": {
  "kernelspec": {
   "display_name": "Python 3",
   "language": "python",
   "name": "python3"
  },
  "language_info": {
   "codemirror_mode": {
    "name": "ipython",
    "version": 3
   },
   "file_extension": ".py",
   "mimetype": "text/x-python",
   "name": "python",
   "nbconvert_exporter": "python",
   "pygments_lexer": "ipython3",
   "version": "3.12.4"
  }
 },
 "nbformat": 4,
 "nbformat_minor": 5
}
