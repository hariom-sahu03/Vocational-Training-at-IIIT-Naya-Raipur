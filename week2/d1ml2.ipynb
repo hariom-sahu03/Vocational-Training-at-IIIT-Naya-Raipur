{
 "cells": [
  {
   "cell_type": "code",
   "execution_count": 1,
   "id": "21ec5ab6",
   "metadata": {},
   "outputs": [
    {
     "name": "stdout",
     "output_type": "stream",
     "text": [
      "    Property_Type  Total_Area_sqft  Num_Rooms  Num_Dining_Area  Num_Washrooms  \\\n",
      "0            Flat             3008          6                1              1   \n",
      "1       Apartment             3279          2                2              4   \n",
      "2           House             1424          5                1              3   \n",
      "3            Flat             3456          2                2              2   \n",
      "4            Flat             2081          4                2              3   \n",
      "..            ...              ...        ...              ...            ...   \n",
      "995         House             3874          4                2              4   \n",
      "996         House             3966          4                1              3   \n",
      "997     Apartment             3581          7                0              2   \n",
      "998     Apartment             4278          3                0              2   \n",
      "999          Flat             1129          7                2              2   \n",
      "\n",
      "     Num_Balconies  Floor_Level  Year_Built  Price_per_sqft  Estimated_Price  \\\n",
      "0                2           16        1990            3000          9367000   \n",
      "1                2            3        1998            4000         13353000   \n",
      "2                3            0        2014            3500          5364000   \n",
      "3                2            0        2018            3000         10555000   \n",
      "4                2           14        2005            3000          6553500   \n",
      "..             ...          ...         ...             ...              ...   \n",
      "995              1           17        2005            3500         13884500   \n",
      "996              0           14        2016            3500         14167000   \n",
      "997              3           11        2002            4000         14768000   \n",
      "998              3           14        2008            4000         17359000   \n",
      "999              0           12        2000            3000          3785000   \n",
      "\n",
      "     Category  \n",
      "0    Standard  \n",
      "1    Standard  \n",
      "2    Standard  \n",
      "3    Standard  \n",
      "4    Standard  \n",
      "..        ...  \n",
      "995  Standard  \n",
      "996  Standard  \n",
      "997  Standard  \n",
      "998    Luxury  \n",
      "999  Standard  \n",
      "\n",
      "[1000 rows x 11 columns]\n"
     ]
    }
   ],
   "source": [
    "import pandas as pd\n",
    "import numpy as np\n",
    "import seaborn as sns\n",
    "import matplotlib.pyplot as plt\n",
    "from sklearn.model_selection import train_test_split\n",
    "from sklearn.preprocessing import LabelEncoder, StandardScaler\n",
    "from sklearn.neighbors import KNeighborsClassifier\n",
    "from sklearn.linear_model import LogisticRegression, LinearRegression\n",
    "from sklearn.naive_bayes import GaussianNB\n",
    "from sklearn.metrics import classification_report, confusion_matrix, accuracy_score, mean_absolute_error, mean_squared_error, r2_score\n",
    "data= pd.read_csv(\"C:/Users/Lenovo/Downloads/Property_Dataset.csv\")\n",
    "data.head()\n",
    "\n",
    "print(data)"
   ]
  },
  {
   "cell_type": "code",
   "execution_count": 2,
   "id": "5a835073",
   "metadata": {},
   "outputs": [
    {
     "name": "stdout",
     "output_type": "stream",
     "text": [
      "<class 'pandas.core.frame.DataFrame'>\n",
      "RangeIndex: 1000 entries, 0 to 999\n",
      "Data columns (total 11 columns):\n",
      " #   Column           Non-Null Count  Dtype \n",
      "---  ------           --------------  ----- \n",
      " 0   Property_Type    1000 non-null   object\n",
      " 1   Total_Area_sqft  1000 non-null   int64 \n",
      " 2   Num_Rooms        1000 non-null   int64 \n",
      " 3   Num_Dining_Area  1000 non-null   int64 \n",
      " 4   Num_Washrooms    1000 non-null   int64 \n",
      " 5   Num_Balconies    1000 non-null   int64 \n",
      " 6   Floor_Level      1000 non-null   int64 \n",
      " 7   Year_Built       1000 non-null   int64 \n",
      " 8   Price_per_sqft   1000 non-null   int64 \n",
      " 9   Estimated_Price  1000 non-null   int64 \n",
      " 10  Category         1000 non-null   object\n",
      "dtypes: int64(9), object(2)\n",
      "memory usage: 86.1+ KB\n",
      "None\n",
      "       Total_Area_sqft    Num_Rooms  Num_Dining_Area  Num_Washrooms  \\\n",
      "count      1000.000000  1000.000000      1000.000000    1000.000000   \n",
      "mean       2771.639000     4.029000         0.991000       2.474000   \n",
      "std        1300.137568     1.987488         0.825591       1.135171   \n",
      "min         501.000000     1.000000         0.000000       1.000000   \n",
      "25%        1636.000000     2.000000         0.000000       1.000000   \n",
      "50%        2711.500000     4.000000         1.000000       2.000000   \n",
      "75%        3893.500000     6.000000         2.000000       3.250000   \n",
      "max        4997.000000     7.000000         2.000000       4.000000   \n",
      "\n",
      "       Num_Balconies  Floor_Level   Year_Built  Price_per_sqft  \\\n",
      "count    1000.000000  1000.000000  1000.000000     1000.000000   \n",
      "mean        1.526000     9.862000  2001.428000     3869.000000   \n",
      "std         1.113806     5.652867    12.410513      714.037008   \n",
      "min         0.000000     0.000000  1980.000000     3000.000000   \n",
      "25%         1.000000     5.000000  1991.750000     3500.000000   \n",
      "50%         2.000000    10.000000  2001.000000     4000.000000   \n",
      "75%         3.000000    15.000000  2012.000000     4000.000000   \n",
      "max         3.000000    19.000000  2023.000000     5000.000000   \n",
      "\n",
      "       Estimated_Price  \n",
      "count     1.000000e+03  \n",
      "mean      1.100668e+07  \n",
      "std       5.433933e+06  \n",
      "min       1.660500e+06  \n",
      "25%       6.315500e+06  \n",
      "50%       1.094425e+07  \n",
      "75%       1.484938e+07  \n",
      "max       2.515500e+07  \n",
      "Property_Type\n",
      "Apartment    280\n",
      "House        258\n",
      "Flat         232\n",
      "Bungalow     230\n",
      "Name: count, dtype: int64\n"
     ]
    }
   ],
   "source": [
    "print(data.info())\n",
    "print(data.describe())\n",
    "print(data['Property_Type'].value_counts())\n"
   ]
  }
 ],
 "metadata": {
  "kernelspec": {
   "display_name": "Python 3",
   "language": "python",
   "name": "python3"
  },
  "language_info": {
   "codemirror_mode": {
    "name": "ipython",
    "version": 3
   },
   "file_extension": ".py",
   "mimetype": "text/x-python",
   "name": "python",
   "nbconvert_exporter": "python",
   "pygments_lexer": "ipython3",
   "version": "3.12.4"
  }
 },
 "nbformat": 4,
 "nbformat_minor": 5
}
