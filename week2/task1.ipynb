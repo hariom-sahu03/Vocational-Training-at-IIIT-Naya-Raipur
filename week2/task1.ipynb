{
 "cells": [
  {
   "cell_type": "code",
   "execution_count": 4,
   "id": "542a2592",
   "metadata": {},
   "outputs": [],
   "source": [
    "\n",
    "import pandas as pd\n",
    "import glob\n",
    "import numpy as np\n",
    "import matplotlib.pyplot as plt\n",
    "import seaborn as sns\n",
    "import plotly.express as px\n",
    "import pandas as pd\n",
    "from sklearn.model_selection import train_test_split\n",
    "from sklearn.preprocessing import LabelEncoder, StandardScaler\n",
    "from sklearn.linear_model import LinearRegression\n",
    "from sklearn.linear_model import LogisticRegression\n",
    "from sklearn.neighbors import KNeighborsClassifier\n",
    "from sklearn.tree import DecisionTreeClassifier\n",
    "from sklearn.naive_bayes import GaussianNB\n",
    "from sklearn.ensemble import RandomForestClassifier,RandomForestRegressor\n",
    "from sklearn.svm import SVC\n",
    "from sklearn.metrics import classification_report, f1_score,confusion_matrix, accuracy_score, mean_absolute_error, mean_squared_error, r2_score,precision_score, recall_score,classification_report"
   ]
  },
  {
   "cell_type": "code",
   "execution_count": 5,
   "id": "5df9c902",
   "metadata": {},
   "outputs": [
    {
     "name": "stdout",
     "output_type": "stream",
     "text": [
      "<class 'pandas.core.frame.DataFrame'>\n",
      "RangeIndex: 100 entries, 0 to 99\n",
      "Data columns (total 5 columns):\n",
      " #   Column             Non-Null Count  Dtype  \n",
      "---  ------             --------------  -----  \n",
      " 0   Student_ID         100 non-null    int64  \n",
      " 1   Hours_Studied      100 non-null    float64\n",
      " 2   Attendance_Rate    100 non-null    float64\n",
      " 3   Previous_Sem_CGPA  100 non-null    float64\n",
      " 4   Final_Score        100 non-null    float64\n",
      "dtypes: float64(4), int64(1)\n",
      "memory usage: 4.0 KB\n"
     ]
    }
   ],
   "source": [
    "data=pd.read_csv(r\"C:\\Users\\Lenovo\\Downloads\\student_dataset2.csv\")\n",
    "data.info()"
   ]
  },
  {
   "cell_type": "code",
   "execution_count": 6,
   "id": "734c3ddf",
   "metadata": {},
   "outputs": [
    {
     "data": {
      "text/html": [
       "<div>\n",
       "<style scoped>\n",
       "    .dataframe tbody tr th:only-of-type {\n",
       "        vertical-align: middle;\n",
       "    }\n",
       "\n",
       "    .dataframe tbody tr th {\n",
       "        vertical-align: top;\n",
       "    }\n",
       "\n",
       "    .dataframe thead th {\n",
       "        text-align: right;\n",
       "    }\n",
       "</style>\n",
       "<table border=\"1\" class=\"dataframe\">\n",
       "  <thead>\n",
       "    <tr style=\"text-align: right;\">\n",
       "      <th></th>\n",
       "      <th>Student_ID</th>\n",
       "      <th>Hours_Studied</th>\n",
       "      <th>Attendance_Rate</th>\n",
       "      <th>Previous_Sem_CGPA</th>\n",
       "      <th>Final_Score</th>\n",
       "    </tr>\n",
       "  </thead>\n",
       "  <tbody>\n",
       "    <tr>\n",
       "      <th>count</th>\n",
       "      <td>100.000000</td>\n",
       "      <td>100.000000</td>\n",
       "      <td>100.000000</td>\n",
       "      <td>100.00000</td>\n",
       "      <td>100.00000</td>\n",
       "    </tr>\n",
       "    <tr>\n",
       "      <th>mean</th>\n",
       "      <td>50.500000</td>\n",
       "      <td>4.293000</td>\n",
       "      <td>79.913000</td>\n",
       "      <td>7.58840</td>\n",
       "      <td>89.54200</td>\n",
       "    </tr>\n",
       "    <tr>\n",
       "      <th>std</th>\n",
       "      <td>29.011492</td>\n",
       "      <td>2.086041</td>\n",
       "      <td>11.719738</td>\n",
       "      <td>1.46667</td>\n",
       "      <td>11.01705</td>\n",
       "    </tr>\n",
       "    <tr>\n",
       "      <th>min</th>\n",
       "      <td>1.000000</td>\n",
       "      <td>1.000000</td>\n",
       "      <td>60.300000</td>\n",
       "      <td>5.03000</td>\n",
       "      <td>57.40000</td>\n",
       "    </tr>\n",
       "    <tr>\n",
       "      <th>25%</th>\n",
       "      <td>25.750000</td>\n",
       "      <td>2.375000</td>\n",
       "      <td>69.700000</td>\n",
       "      <td>6.38250</td>\n",
       "      <td>81.67500</td>\n",
       "    </tr>\n",
       "    <tr>\n",
       "      <th>50%</th>\n",
       "      <td>50.500000</td>\n",
       "      <td>4.250000</td>\n",
       "      <td>80.200000</td>\n",
       "      <td>7.81000</td>\n",
       "      <td>92.65000</td>\n",
       "    </tr>\n",
       "    <tr>\n",
       "      <th>75%</th>\n",
       "      <td>75.250000</td>\n",
       "      <td>6.100000</td>\n",
       "      <td>90.675000</td>\n",
       "      <td>8.76000</td>\n",
       "      <td>100.00000</td>\n",
       "    </tr>\n",
       "    <tr>\n",
       "      <th>max</th>\n",
       "      <td>100.000000</td>\n",
       "      <td>7.900000</td>\n",
       "      <td>99.400000</td>\n",
       "      <td>9.95000</td>\n",
       "      <td>100.00000</td>\n",
       "    </tr>\n",
       "  </tbody>\n",
       "</table>\n",
       "</div>"
      ],
      "text/plain": [
       "       Student_ID  Hours_Studied  Attendance_Rate  Previous_Sem_CGPA  \\\n",
       "count  100.000000     100.000000       100.000000          100.00000   \n",
       "mean    50.500000       4.293000        79.913000            7.58840   \n",
       "std     29.011492       2.086041        11.719738            1.46667   \n",
       "min      1.000000       1.000000        60.300000            5.03000   \n",
       "25%     25.750000       2.375000        69.700000            6.38250   \n",
       "50%     50.500000       4.250000        80.200000            7.81000   \n",
       "75%     75.250000       6.100000        90.675000            8.76000   \n",
       "max    100.000000       7.900000        99.400000            9.95000   \n",
       "\n",
       "       Final_Score  \n",
       "count    100.00000  \n",
       "mean      89.54200  \n",
       "std       11.01705  \n",
       "min       57.40000  \n",
       "25%       81.67500  \n",
       "50%       92.65000  \n",
       "75%      100.00000  \n",
       "max      100.00000  "
      ]
     },
     "execution_count": 6,
     "metadata": {},
     "output_type": "execute_result"
    }
   ],
   "source": [
    "data.describe()"
   ]
  },
  {
   "cell_type": "code",
   "execution_count": 7,
   "id": "a6e68b37",
   "metadata": {},
   "outputs": [
    {
     "data": {
      "text/plain": [
       "<bound method DataFrame.sum of     Student_ID  Hours_Studied  Attendance_Rate  Previous_Sem_CGPA  Final_Score\n",
       "0        False          False            False              False        False\n",
       "1        False          False            False              False        False\n",
       "2        False          False            False              False        False\n",
       "3        False          False            False              False        False\n",
       "4        False          False            False              False        False\n",
       "..         ...            ...              ...                ...          ...\n",
       "95       False          False            False              False        False\n",
       "96       False          False            False              False        False\n",
       "97       False          False            False              False        False\n",
       "98       False          False            False              False        False\n",
       "99       False          False            False              False        False\n",
       "\n",
       "[100 rows x 5 columns]>"
      ]
     },
     "execution_count": 7,
     "metadata": {},
     "output_type": "execute_result"
    }
   ],
   "source": [
    "data.isnull().sum"
   ]
  },
  {
   "cell_type": "code",
   "execution_count": 8,
   "id": "30b22609",
   "metadata": {},
   "outputs": [
    {
     "name": "stdout",
     "output_type": "stream",
     "text": [
      "   Hours_Studied  Attendance_Rate  Previous_Sem_CGPA\n",
      "0            3.6             61.3               8.21\n",
      "1            7.7             85.5               5.42\n",
      "2            6.1             72.6               5.81\n",
      "3            5.2             80.3               9.49\n",
      "4            2.1             96.3               8.03\n",
      "   Final_Score\n",
      "0         81.7\n",
      "1         99.7\n",
      "2        100.0\n",
      "3        100.0\n",
      "4         80.6\n"
     ]
    }
   ],
   "source": [
    "\n",
    "features = ['Hours_Studied', 'Attendance_Rate', 'Previous_Sem_CGPA']\n",
    "target = ['Final_Score']\n",
    "\n",
    "x= data[features]\n",
    "y = data[target]\n",
    "\n",
    "print(x.head())\n",
    "\n",
    "print(y.head())\n"
   ]
  },
  {
   "cell_type": "code",
   "execution_count": 9,
   "id": "30a08b6a",
   "metadata": {},
   "outputs": [
    {
     "name": "stdout",
     "output_type": "stream",
     "text": [
      "mae := 5.247397116579256\n",
      "\n",
      "mse := 40.541469755895065\n",
      "\n",
      "r2 := 0.7585703179047649\n"
     ]
    }
   ],
   "source": [
    "x_train,x_test,y_train,y_test=train_test_split(x,y,test_size=0.2,random_state=42)\n",
    "model=LinearRegression()\n",
    "model.fit(x_train,y_train)\n",
    "y_pred=model.predict(x_test)\n",
    "mae=mean_absolute_error(y_test,y_pred)\n",
    "mse=mean_squared_error(y_test,y_pred)\n",
    "r2=r2_score(y_test,y_pred)\n",
    "print(\"mae :=\",mae)\n",
    "print(\"\\nmse :=\",mse)\n",
    "print(\"\\nr2 :=\",r2)"
   ]
  },
  {
   "cell_type": "code",
   "execution_count": 10,
   "id": "4738beb7",
   "metadata": {},
   "outputs": [
    {
     "name": "stdout",
     "output_type": "stream",
     "text": [
      "mae= 5.158449999999989 \n",
      "mse= 48.718254549999806 \n",
      "r2= 0.709876509681031\n"
     ]
    },
    {
     "name": "stderr",
     "output_type": "stream",
     "text": [
      "c:\\Users\\Lenovo\\AppData\\Local\\Programs\\Python\\Python312\\Lib\\site-packages\\sklearn\\base.py:1389: DataConversionWarning: A column-vector y was passed when a 1d array was expected. Please change the shape of y to (n_samples,), for example using ravel().\n",
      "  return fit_method(estimator, *args, **kwargs)\n"
     ]
    }
   ],
   "source": [
    "model1=RandomForestRegressor()\n",
    "model1.fit(x_train,y_train)\n",
    "y_pred1=model1.predict(x_test)\n",
    "mae1=mean_absolute_error(y_test,y_pred1)\n",
    "mse1=mean_squared_error(y_test,y_pred1)\n",
    "r21=r2_score(y_test,y_pred1)\n",
    "print(\"mae=\",mae1,\"\\nmse=\",mse1,\"\\nr2=\",r21)"
   ]
  },
  {
   "cell_type": "code",
   "execution_count": 11,
   "id": "f54e9f99",
   "metadata": {},
   "outputs": [
    {
     "data": {
      "text/plain": [
       "<Axes: >"
      ]
     },
     "execution_count": 11,
     "metadata": {},
     "output_type": "execute_result"
    },
    {
     "data": {
      "image/png": "[encoded data removed]",
      "text/plain": [
       "<Figure size 640x480 with 2 Axes>"
      ]
     },
     "metadata": {},
     "output_type": "display_data"
    }
   ],
   "source": [
    "sns.heatmap(data.corr(),annot=True)"
   ]
  },
  {
   "cell_type": "code",
   "execution_count": null,
   "id": "616eca47",
   "metadata": {},
   "outputs": [],
   "source": []
  },
  {
   "cell_type": "code",
   "execution_count": null,
   "id": "b88f23e8",
   "metadata": {},
   "outputs": [],
   "source": []
  },
  {
   "cell_type": "code",
   "execution_count": null,
   "id": "812d8ddf",
   "metadata": {},
   "outputs": [],
   "source": []
  }
 ],
 "metadata": {
  "kernelspec": {
   "display_name": "Python 3",
   "language": "python",
   "name": "python3"
  },
  "language_info": {
   "codemirror_mode": {
    "name": "ipython",
    "version": 3
   },
   "file_extension": ".py",
   "mimetype": "text/x-python",
   "name": "python",
   "nbconvert_exporter": "python",
   "pygments_lexer": "ipython3",
   "version": "3.12.4"
  }
 },
 "nbformat": 4,
 "nbformat_minor": 5
}
