{
 "cells": [
  {
   "cell_type": "code",
   "execution_count": null,
   "id": "504a99c7",
   "metadata": {},
   "outputs": [
    {
     "name": "stdout",
     "output_type": "stream",
     "text": [
      "Linear Regression:\n",
      "  RMSE: 894342.18\n",
      "  R² Score: 0.9730\n",
      "\n",
      "Decision Tree:\n",
      "  RMSE: 230394.34\n",
      "  R² Score: 0.9982\n",
      "\n",
      "Random Forest:\n",
      "  RMSE: 162146.77\n",
      "  R² Score: 0.9991\n",
      "\n",
      "Best Model: Random Forest with R² Score: 0.9991\n"
     ]
    }
   ],
   "source": [
    "import pandas as pd\n",
    "import numpy as np\n",
    "from sklearn.model_selection import train_test_split\n",
    "from sklearn.preprocessing import OneHotEncoder\n",
    "from sklearn.compose import ColumnTransformer\n",
    "from sklearn.pipeline import Pipeline\n",
    "from sklearn.linear_model import LinearRegression\n",
    "from sklearn.tree import DecisionTreeRegressor\n",
    "from sklearn.ensemble import RandomForestRegressor\n",
    "from sklearn.metrics import mean_squared_error, r2_score\n",
    "\n",
    "# Load the dataset\n",
    "df = pd.read_csv(\"C:/Users/Lenovo/Downloads/Property_Dataset.csv\")\n",
    "\n",
    "X = df.drop(columns=[\"Estimated_Price\"])\n",
    "y = df[\"Estimated_Price\"]\n",
    "\n",
    "# Categorical columns\n",
    "categorical_cols = [\"Property_Type\", \"Category\"]\n",
    "\n",
    "# Preprocessor for encoding categorical features\n",
    "preprocessor = ColumnTransformer(\n",
    "    transformers=[\n",
    "        (\"cat\", OneHotEncoder(handle_unknown=\"ignore\"), categorical_cols)\n",
    "    ],\n",
    "    remainder=\"passthrough\"\n",
    ")\n",
    "\n",
    "# Regression models\n",
    "models = {\n",
    "    \"Linear Regression\": LinearRegression(),\n",
    "    \"Decision Tree\": DecisionTreeRegressor(random_state=42),\n",
    "    \"Random Forest\": RandomForestRegressor(random_state=42)\n",
    "}\n",
    "\n",
    "# Split dataset\n",
    "X_train, X_test, y_train, y_test = train_test_split(X, y, test_size=0.2, random_state=42)\n",
    "\n",
    "# Train and evaluate models\n",
    "results = {}\n",
    "for name, model in models.items():\n",
    "    pipeline = Pipeline([\n",
    "        (\"preprocessor\", preprocessor),\n",
    "        (\"regressor\", model)\n",
    "    ])\n",
    "    pipeline.fit(X_train, y_train)\n",
    "    y_pred = pipeline.predict(X_test)\n",
    "    rmse = np.sqrt(mean_squared_error(y_test, y_pred))\n",
    "    r2 = r2_score(y_test, y_pred)\n",
    "    results[name] = {\"RMSE\": rmse, \"R² Score\": r2}\n",
    "    print(f\"{name}:\\n  RMSE: {rmse:.2f}\\n  R² Score: {r2:.4f}\\n\")\n",
    "\n",
    "# Best model based on R² score\n",
    "best_model_name = max(results, key=lambda x: results[x][\"R² Score\"])\n",
    "print(f\"Best Model: {best_model_name} with R² Score: {results[best_model_name]['R² Score']:.4f}\")\n"
   ]
  }
 ],
 "metadata": {
  "kernelspec": {
   "display_name": "Python 3",
   "language": "python",
   "name": "python3"
  },
  "language_info": {
   "codemirror_mode": {
    "name": "ipython",
    "version": 3
   },
   "file_extension": ".py",
   "mimetype": "text/x-python",
   "name": "python",
   "nbconvert_exporter": "python",
   "pygments_lexer": "ipython3",
   "version": "3.12.4"
  }
 },
 "nbformat": 4,
 "nbformat_minor": 5
}
