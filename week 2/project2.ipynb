{
 "cells": [
  {
   "cell_type": "code",
   "execution_count": null,
   "id": "585ea520",
   "metadata": {},
   "outputs": [
    {
     "name": "stdout",
     "output_type": "stream",
     "text": [
      "Master CSV loaded:\n",
      "  Subject_ID  Age Gender  Height  Weight  Pulse  SpO2  SBP  DBP  \\\n",
      "0       Sub1   23      M     180      98     82    98  128   71   \n",
      "1       Sub2   20      M     167      69     77    98  135   91   \n",
      "2       Sub3   21      M     190      90     82    98  125   81   \n",
      "3       Sub4   20      F     157      47    100    98  125   78   \n",
      "4       Sub5   21      M     175      75     75    98  121   66   \n",
      "\n",
      "                 Diet  \n",
      "0  Fasting since 2hrs  \n",
      "1  Fasting since 2hrs  \n",
      "2  Fasting since 2hrs  \n",
      "3  Fasting since 2hrs  \n",
      "4  Fasting since 2hrs  \n",
      "\n",
      "CSV Columns: ['Subject_ID', 'Age', 'Gender', 'Height', 'Weight', 'Pulse', 'SpO2', 'SBP', 'DBP', 'Diet']\n",
      "\n",
      "First 10 signal values from Sub1.txt:\n",
      "[  0.58164352   0.86405093   3.32208333  10.59386574  36.05385417\n",
      "  97.32601852 179.17084201 186.11597801 187.80374711 187.95427662]\n"
     ]
    }
   ],
   "source": [
    "# STEP 1 : Loading  the data\n",
    "\n",
    "import pandas as pd\n",
    "import numpy as np\n",
    "import os\n",
    "\n",
    "csv_path = r\"C:\\Users\\Lenovo\\Downloads\\Subject_masterdata.csv\"\n",
    "signal_dir = r\"C:\\Users\\Lenovo\\Downloads\\SaveRedData-20250611T102321Z-1-001\\SaveRedData\"\n",
    "\n",
    "# Load the master CSV\n",
    "master_df = pd.read_csv(csv_path)\n",
    "print(\"Master CSV loaded:\")\n",
    "print(master_df.head())\n",
    "\n",
    "# Print column names to ensure you reference the correct one\n",
    "print(\"\\nCSV Columns:\", master_df.columns.tolist())\n",
    "\n",
    "# Assuming 'Subject_ID' contains values like 'Sub1', 'Sub2'...\n",
    "file_column = 'Subject_ID'\n",
    "\n",
    "# Load signal data\n",
    "signal_data = {}\n",
    "for idx, row in master_df.iterrows():\n",
    "    file_name = row[file_column] + \".txt\"\n",
    "    file_path = os.path.join(signal_dir, file_name)\n",
    "    \n",
    "    try:\n",
    "        signal = np.loadtxt(file_path)\n",
    "        signal_data[file_name] = signal\n",
    "    except Exception as e:\n",
    "        print(f\"Error loading {file_name}: {e}\")\n",
    "\n",
    "\n",
    "sample_file = master_df[file_column].iloc[0] + \".txt\"\n",
    "print(f\"\\nFirst 10 signal values from {sample_file}:\")\n",
    "print(signal_data[sample_file][:10])\n"
   ]
  },
  {
   "cell_type": "code",
   "execution_count": null,
   "id": "91b4710d",
   "metadata": {},
   "outputs": [],
   "source": [
    "# STEP 2 : Preprocessing the signal data\n",
    "\n",
    "def preprocess_signal(signal, window_size=5):\n",
    "   \n",
    "    signal = signal[np.nonzero(signal)]  # remove zeros from start\n",
    "    if signal.size == 0:\n",
    "        return np.zeros(100)  # fallback if empty\n",
    "    \n",
    "    # Step 2: Apply moving average smoothing\n",
    "    smoothed = np.convolve(signal, np.ones(window_size)/window_size, mode='valid')\n",
    "    \n",
    "    return smoothed\n"
   ]
  },
  {
   "cell_type": "code",
   "execution_count": 18,
   "id": "bc0d28d6",
   "metadata": {},
   "outputs": [
    {
     "name": "stdout",
     "output_type": "stream",
     "text": [
      "\n",
      "Preprocessed signal sample from Sub1.txt:\n",
      "[ 10.28309954  29.63197454  65.29333275 101.85211169 137.29408796\n",
      " 167.67417245 185.73277604 187.66082523 188.0239537  187.74588657]\n"
     ]
    }
   ],
   "source": [
    "# Dictionary to store preprocessed signals\n",
    "preprocessed_signals = {}\n",
    "\n",
    "for file_name, signal in signal_data.items():\n",
    "    processed = preprocess_signal(signal)\n",
    "    preprocessed_signals[file_name] = processed\n",
    "\n",
    "# Show example\n",
    "sample_file = list(preprocessed_signals.keys())[0]\n",
    "print(f\"\\nPreprocessed signal sample from {sample_file}:\")\n",
    "print(preprocessed_signals[sample_file][:10])\n"
   ]
  },
  {
   "cell_type": "code",
   "execution_count": null,
   "id": "e5c9f776",
   "metadata": {},
   "outputs": [],
   "source": [
    "# STEP 3 : Normalizing the signal data\n",
    "\n",
    "def normalize_signal(signal):\n",
    "    \"\"\"\n",
    "    Normalizes the signal to the range [0, 1] using min-max normalization.\n",
    "    \"\"\"\n",
    "    min_val = np.min(signal)\n",
    "    max_val = np.max(signal)\n",
    "    \n",
    "    # Prevent division by zero\n",
    "    if max_val == min_val:\n",
    "        return np.zeros_like(signal)\n",
    "    \n",
    "    normalized = (signal - min_val) / (max_val - min_val)\n",
    "    return normalized\n"
   ]
  },
  {
   "cell_type": "code",
   "execution_count": 20,
   "id": "aeb9764f",
   "metadata": {},
   "outputs": [
    {
     "name": "stdout",
     "output_type": "stream",
     "text": [
      "\n",
      "Normalized signal sample from Sub1.txt:\n",
      "[0.         0.1070627  0.3043869  0.50667678 0.70278708 0.87088853\n",
      " 0.9708118  0.98148023 0.98348952 0.9819509 ]\n"
     ]
    }
   ],
   "source": [
    "# Dictionary to store normalized signals\n",
    "normalized_signals = {}\n",
    "\n",
    "for file_name, signal in preprocessed_signals.items():\n",
    "    norm_signal = normalize_signal(signal)\n",
    "    normalized_signals[file_name] = norm_signal\n",
    "\n",
    "# Show sample\n",
    "sample_file = list(normalized_signals.keys())[0]\n",
    "print(f\"\\nNormalized signal sample from {sample_file}:\")\n",
    "print(normalized_signals[sample_file][:10])\n"
   ]
  },
  {
   "cell_type": "code",
   "execution_count": null,
   "id": "430c3358",
   "metadata": {},
   "outputs": [],
   "source": [
    "# STEP 4  : Feature Extraction\n",
    "\n",
    "from scipy.stats import skew, kurtosis\n",
    "\n",
    "def extract_features(signal):\n",
    "    \"\"\"\n",
    "    Extracts statistical features from a normalized signal.\n",
    "    Returns a feature vector (list).\n",
    "    \"\"\"\n",
    "    features = {\n",
    "        'mean': np.mean(signal),\n",
    "        'std': np.std(signal),\n",
    "        'max': np.max(signal),\n",
    "        'min': np.min(signal),\n",
    "        'energy': np.sum(signal**2),\n",
    "        'rms': np.sqrt(np.mean(signal**2)),\n",
    "        'skewness': skew(signal),\n",
    "        'kurtosis': kurtosis(signal)\n",
    "    }\n",
    "    return features\n"
   ]
  },
  {
   "cell_type": "code",
   "execution_count": 22,
   "id": "6231efbe",
   "metadata": {},
   "outputs": [
    {
     "name": "stdout",
     "output_type": "stream",
     "text": [
      "\n",
      "Feature sample:\n",
      "       mean       std  max  min       energy       rms   skewness    kurtosis\n",
      "0  0.932558  0.035450  1.0  0.0  2086.728654  0.933232 -15.969738  370.391639\n",
      "1  0.174469  0.078531  1.0  0.0    87.709007  0.191328   0.353396    5.782643\n",
      "2  0.048663  0.038211  1.0  0.0     9.172287  0.061872  13.552842  262.761018\n",
      "3  0.072715  0.047090  1.0  0.0    17.981596  0.086630   7.824347  130.128580\n",
      "4  0.854079  0.069242  1.0  0.0  1759.250770  0.856881  -1.255479   10.648935\n",
      "\n",
      "Target values sample:\n",
      "    HR  SBP  DBP\n",
      "0   82  128   71\n",
      "1   77  135   91\n",
      "2   82  125   81\n",
      "3  100  125   78\n",
      "4   75  121   66\n"
     ]
    }
   ],
   "source": [
    "# List to store feature dicts\n",
    "feature_list = []\n",
    "\n",
    "# Corresponding labels (HR, SBP, DBP)\n",
    "labels = []\n",
    "\n",
    "for idx, row in master_df.iterrows():\n",
    "    subject_id = row['Subject_ID']\n",
    "    file_name = subject_id + \".txt\"\n",
    "\n",
    "    if file_name in normalized_signals:\n",
    "        signal = normalized_signals[file_name]\n",
    "        features = extract_features(signal)\n",
    "        feature_list.append(features)\n",
    "\n",
    "        # Target values\n",
    "        labels.append({\n",
    "            'HR': row['Pulse'],\n",
    "            'SBP': row['SBP'],\n",
    "            'DBP': row['DBP']\n",
    "        })\n",
    "\n",
    "# Convert to DataFrame\n",
    "X = pd.DataFrame(feature_list)\n",
    "y = pd.DataFrame(labels)\n",
    "\n",
    "# Show extracted features\n",
    "print(\"\\nFeature sample:\")\n",
    "print(X.head())\n",
    "print(\"\\nTarget values sample:\")\n",
    "print(y.head())\n"
   ]
  },
  {
   "cell_type": "code",
   "execution_count": null,
   "id": "aa26f4da",
   "metadata": {},
   "outputs": [
    {
     "name": "stdout",
     "output_type": "stream",
     "text": [
      "Correlation with Heart Rate (HR):\n",
      "HR          1.000000\n",
      "skewness    0.319248\n",
      "DBP         0.166642\n",
      "SBP         0.119278\n",
      "std         0.105813\n",
      "rms        -0.299179\n",
      "mean       -0.300450\n",
      "energy     -0.336560\n",
      "kurtosis   -0.422435\n",
      "max              NaN\n",
      "min              NaN\n",
      "Name: HR, dtype: float64\n",
      "\n",
      "Correlation with SBP:\n",
      "SBP         1.000000\n",
      "DBP         0.813633\n",
      "skewness    0.403285\n",
      "std         0.396585\n",
      "HR          0.119278\n",
      "rms        -0.253937\n",
      "mean       -0.261691\n",
      "energy     -0.280391\n",
      "kurtosis   -0.490360\n",
      "max              NaN\n",
      "min              NaN\n",
      "Name: SBP, dtype: float64\n",
      "\n",
      "Correlation with DBP:\n",
      "DBP         1.000000\n",
      "SBP         0.813633\n",
      "std         0.379835\n",
      "skewness    0.326057\n",
      "HR          0.166642\n",
      "rms        -0.153934\n",
      "mean       -0.162745\n",
      "energy     -0.176816\n",
      "kurtosis   -0.393707\n",
      "max              NaN\n",
      "min              NaN\n",
      "Name: DBP, dtype: float64\n"
     ]
    }
   ],
   "source": [
    "# STEP 5 : Correlation Analysis\n",
    "\n",
    "combined_df = pd.concat([X, y], axis=1)\n",
    "\n",
    "# Correlation matrix\n",
    "corr_matrix = combined_df.corr(numeric_only=True)\n",
    "\n",
    "# Display correlation of features with each target\n",
    "print(\"Correlation with Heart Rate (HR):\")\n",
    "print(corr_matrix['HR'].sort_values(ascending=False))\n",
    "\n",
    "print(\"\\nCorrelation with SBP:\")\n",
    "print(corr_matrix['SBP'].sort_values(ascending=False))\n",
    "\n",
    "print(\"\\nCorrelation with DBP:\")\n",
    "print(corr_matrix['DBP'].sort_values(ascending=False))\n"
   ]
  },
  {
   "cell_type": "code",
   "execution_count": 24,
   "id": "146bcf44",
   "metadata": {},
   "outputs": [
    {
     "name": "stdout",
     "output_type": "stream",
     "text": [
      "Final selected features:\n",
      "['mean', 'std', 'energy', 'rms', 'skewness', 'kurtosis']\n"
     ]
    }
   ],
   "source": [
    "# Drop 'max' and 'min' from the feature set\n",
    "X_selected = X.drop(columns=['max', 'min'])\n",
    "\n",
    "print(\"Final selected features:\")\n",
    "print(X_selected.columns.tolist())\n"
   ]
  },
  {
   "cell_type": "code",
   "execution_count": null,
   "id": "59e95a12",
   "metadata": {},
   "outputs": [],
   "source": [
    "# STEP 6 : Model Training and Evaluation\n",
    "\n",
    "from sklearn.ensemble import RandomForestRegressor\n",
    "from sklearn.model_selection import train_test_split\n",
    "from sklearn.metrics import mean_absolute_error, r2_score\n"
   ]
  },
  {
   "cell_type": "code",
   "execution_count": 47,
   "id": "2b3f58f3",
   "metadata": {},
   "outputs": [
    {
     "name": "stdout",
     "output_type": "stream",
     "text": [
      "\n",
      "🔹 Training model for HR...\n",
      " HR - MAE: 12.38, R²: -0.01\n",
      "\n",
      "🔹 Training model for SBP...\n",
      " SBP - MAE: 27.42, R²: -1.15\n",
      "\n",
      "🔹 Training model for DBP...\n",
      " DBP - MAE: 14.58, R²: -0.47\n"
     ]
    }
   ],
   "source": [
    "# Split data: train/test (80/20)\n",
    "X_train, X_test, y_train, y_test = train_test_split(X, y, test_size=0.2, random_state=42)\n",
    "\n",
    "# Store models and predictions\n",
    "models = {}\n",
    "predictions = {}\n",
    "metrics = {}\n",
    "\n",
    "# Loop through each target\n",
    "for target in ['HR', 'SBP', 'DBP']:\n",
    "    print(f\"\\n🔹 Training model for {target}...\")\n",
    "    \n",
    "    model = RandomForestRegressor(n_estimators=100, random_state=42)\n",
    "    model.fit(X_train, y_train[target])\n",
    "    \n",
    "    y_pred = model.predict(X_test)\n",
    "    \n",
    "    # Store\n",
    "    models[target] = model\n",
    "    predictions[target] = y_pred\n",
    "    metrics[target] = {\n",
    "        'MAE': mean_absolute_error(y_test[target], y_pred),\n",
    "        'R2 Score': r2_score(y_test[target], y_pred)\n",
    "    }\n",
    "    \n",
    "    print(f\" {target} - MAE: {metrics[target]['MAE']:.2f}, R²: {metrics[target]['R2 Score']:.2f}\")\n"
   ]
  },
  {
   "cell_type": "code",
   "execution_count": null,
   "id": "69bd6e2d",
   "metadata": {},
   "outputs": [
    {
     "data": {
      "image/png": "[encoded data removed]",
      "text/plain": [
       "<Figure size 600x400 with 1 Axes>"
      ]
     },
     "metadata": {},
     "output_type": "display_data"
    },
    {
     "data": {
      "image/png": "[encoded data removed]",
      "text/plain": [
       "<Figure size 600x400 with 1 Axes>"
      ]
     },
     "metadata": {},
     "output_type": "display_data"
    },
    {
     "data": {
      "image/png": "[encoded data removed]",
      "text/plain": [
       "<Figure size 600x400 with 1 Axes>"
      ]
     },
     "metadata": {},
     "output_type": "display_data"
    }
   ],
   "source": [
    "# STEP 7 : Visualizing Predictions\n",
    "import matplotlib.pyplot as plt\n",
    "\n",
    "# Plot predictions vs actuals\n",
    "def plot_predictions(y_true, y_pred, target):\n",
    "    plt.figure(figsize=(6, 4))\n",
    "    plt.scatter(y_true, y_pred, color='dodgerblue', edgecolor='k')\n",
    "    plt.plot([y_true.min(), y_true.max()], [y_true.min(), y_true.max()], 'r--')\n",
    "    plt.xlabel(\"Actual\")\n",
    "    plt.ylabel(\"Predicted\")\n",
    "    plt.title(f\"{target} Prediction\")\n",
    "    plt.grid(True)\n",
    "    plt.tight_layout()\n",
    "    plt.show()\n",
    "\n",
    "# Apply for each target\n",
    "for target in ['HR', 'SBP', 'DBP']:\n",
    "    plot_predictions(y_test[target], predictions[target], target)\n"
   ]
  },
  {
   "cell_type": "code",
   "execution_count": 48,
   "id": "c875545d",
   "metadata": {},
   "outputs": [
    {
     "name": "stdout",
     "output_type": "stream",
     "text": [
      "\n",
      "📄 Predictions for unseen data  Sub1.txt:\n",
      "  HR: 89.87\n",
      "  SBP: 98.50\n",
      "  DBP: 66.32\n",
      "\n",
      "📄 Predictions for unseen data  Sub2.txt:\n",
      "  HR: 86.79\n",
      "  SBP: 134.32\n",
      "  DBP: 86.64\n"
     ]
    }
   ],
   "source": [
    "# STEP 8 : Making Predictions on Unseen Data\n",
    "new_files = [\n",
    "    r\"C:\\Users\\Lenovo\\Downloads\\Sub1.txt\",\n",
    "    r\"C:\\Users\\Lenovo\\Downloads\\Sub2.txt\",\n",
    "]\n",
    "\n",
    "for file_path in new_files:\n",
    "    try:\n",
    "        # Load\n",
    "        signal = np.loadtxt(file_path)\n",
    "        \n",
    "        # Preprocess → Normalize → Feature extraction\n",
    "        processed = preprocess_signal(signal)\n",
    "        normalized = normalize_signal(processed)\n",
    "        features = extract_features(normalized)\n",
    "        \n",
    "        # Convert to DataFrame (1 row)\n",
    "        X_new = pd.DataFrame([features])\n",
    "        \n",
    "        # Predict\n",
    "        print(f\"\\n📄 Predictions for unseen data  {os.path.basename(file_path)}:\")\n",
    "        for target in ['HR', 'SBP', 'DBP']:\n",
    "            pred = models[target].predict(X_new)[0]\n",
    "            print(f\"  {target}: {pred:.2f}\")\n",
    "    \n",
    "    except Exception as e:\n",
    "        print(f\"Error processing {file_path}: {e}\")\n"
   ]
  }
 ],
 "metadata": {
  "kernelspec": {
   "display_name": "Python 3",
   "language": "python",
   "name": "python3"
  },
  "language_info": {
   "codemirror_mode": {
    "name": "ipython",
    "version": 3
   },
   "file_extension": ".py",
   "mimetype": "text/x-python",
   "name": "python",
   "nbconvert_exporter": "python",
   "pygments_lexer": "ipython3",
   "version": "3.12.4"
  }
 },
 "nbformat": 4,
 "nbformat_minor": 5
}
